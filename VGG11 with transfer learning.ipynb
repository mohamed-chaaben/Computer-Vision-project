{
 "cells": [
  {
   "cell_type": "code",
   "execution_count": 1,
   "id": "5eb75657",
   "metadata": {},
   "outputs": [
    {
     "name": "stderr",
     "output_type": "stream",
     "text": [
      "/bin/anaconda3/envs/mohamed-chaaben/lib/python3.10/site-packages/torchvision/io/image.py:13: UserWarning: Failed to load image Python extension: '/usr/bin/anaconda3/envs/mohamed-chaaben/lib/python3.10/site-packages/torchvision/image.so: undefined symbol: _ZNK3c107SymBool10guard_boolEPKcl'If you don't plan on using image functionality from `torchvision.io`, you can ignore this warning. Otherwise, there might be something wrong with your environment. Did you have `libjpeg` or `libpng` installed before building `torchvision` from source?\n",
      "  warn(\n"
     ]
    }
   ],
   "source": [
    "import torch\n",
    "import torch.nn as nn\n",
    "import torch.optim as optim\n",
    "from torch.utils.data import DataLoader, random_split\n",
    "from torchvision import datasets, transforms\n",
    "from torchvision.models import vgg11\n",
    "from sklearn.metrics import precision_score, recall_score"
   ]
  },
  {
   "cell_type": "code",
   "execution_count": 2,
   "id": "3a6124ff",
   "metadata": {},
   "outputs": [],
   "source": [
    "data_path = \"/home/mohamed_chaaben/Documents/Colorectal Cancer /\""
   ]
  },
  {
   "cell_type": "code",
   "execution_count": 3,
   "id": "73b6de14",
   "metadata": {},
   "outputs": [],
   "source": [
    "transform = transforms.Compose([\n",
    "    transforms.Resize((224, 224)), transforms.ToTensor(),transforms.Normalize([0.485, 0.456, 0.406], [0.229, 0.224, 0.225])])\n",
    "\n",
    "dataset = datasets.ImageFolder(data_path, transform=transform)\n",
    "\n",
    "train_size = int(0.8 * len(dataset))\n",
    "val_size = int(0.1 * len(dataset))\n",
    "test_size = len(dataset) - train_size - val_size\n",
    "train_set, val_set, test_set = random_split(dataset, [train_size, val_size, test_size])"
   ]
  },
  {
   "cell_type": "code",
   "execution_count": 4,
   "id": "4584ffab",
   "metadata": {},
   "outputs": [],
   "source": [
    "model = vgg11(weights='DEFAULT')\n",
    "\n",
    "for param in model.features[:-5].parameters():\n",
    "    param.requires_grad = False\n",
    "\n",
    "num_classes = 3\n",
    "model.classifier[6] = nn.Linear(4096, num_classes)"
   ]
  },
  {
   "cell_type": "code",
   "execution_count": 5,
   "id": "bff77829",
   "metadata": {},
   "outputs": [
    {
     "data": {
      "text/plain": [
       "VGG(\n",
       "  (features): Sequential(\n",
       "    (0): Conv2d(3, 64, kernel_size=(3, 3), stride=(1, 1), padding=(1, 1))\n",
       "    (1): ReLU(inplace=True)\n",
       "    (2): MaxPool2d(kernel_size=2, stride=2, padding=0, dilation=1, ceil_mode=False)\n",
       "    (3): Conv2d(64, 128, kernel_size=(3, 3), stride=(1, 1), padding=(1, 1))\n",
       "    (4): ReLU(inplace=True)\n",
       "    (5): MaxPool2d(kernel_size=2, stride=2, padding=0, dilation=1, ceil_mode=False)\n",
       "    (6): Conv2d(128, 256, kernel_size=(3, 3), stride=(1, 1), padding=(1, 1))\n",
       "    (7): ReLU(inplace=True)\n",
       "    (8): Conv2d(256, 256, kernel_size=(3, 3), stride=(1, 1), padding=(1, 1))\n",
       "    (9): ReLU(inplace=True)\n",
       "    (10): MaxPool2d(kernel_size=2, stride=2, padding=0, dilation=1, ceil_mode=False)\n",
       "    (11): Conv2d(256, 512, kernel_size=(3, 3), stride=(1, 1), padding=(1, 1))\n",
       "    (12): ReLU(inplace=True)\n",
       "    (13): Conv2d(512, 512, kernel_size=(3, 3), stride=(1, 1), padding=(1, 1))\n",
       "    (14): ReLU(inplace=True)\n",
       "    (15): MaxPool2d(kernel_size=2, stride=2, padding=0, dilation=1, ceil_mode=False)\n",
       "    (16): Conv2d(512, 512, kernel_size=(3, 3), stride=(1, 1), padding=(1, 1))\n",
       "    (17): ReLU(inplace=True)\n",
       "    (18): Conv2d(512, 512, kernel_size=(3, 3), stride=(1, 1), padding=(1, 1))\n",
       "    (19): ReLU(inplace=True)\n",
       "    (20): MaxPool2d(kernel_size=2, stride=2, padding=0, dilation=1, ceil_mode=False)\n",
       "  )\n",
       "  (avgpool): AdaptiveAvgPool2d(output_size=(7, 7))\n",
       "  (classifier): Sequential(\n",
       "    (0): Linear(in_features=25088, out_features=4096, bias=True)\n",
       "    (1): ReLU(inplace=True)\n",
       "    (2): Dropout(p=0.5, inplace=False)\n",
       "    (3): Linear(in_features=4096, out_features=4096, bias=True)\n",
       "    (4): ReLU(inplace=True)\n",
       "    (5): Dropout(p=0.5, inplace=False)\n",
       "    (6): Linear(in_features=4096, out_features=3, bias=True)\n",
       "  )\n",
       ")"
      ]
     },
     "execution_count": 5,
     "metadata": {},
     "output_type": "execute_result"
    }
   ],
   "source": [
    "device = torch.device(\"cuda\" if torch.cuda.is_available() else \"cpu\")\n",
    "model.to(device)"
   ]
  },
  {
   "cell_type": "code",
   "execution_count": 6,
   "id": "81be2739",
   "metadata": {},
   "outputs": [
    {
     "name": "stdout",
     "output_type": "stream",
     "text": [
      "start epoch  0\n",
      "Epoch 1/50 - Loss: 0.36162110830346744\n",
      "Validation Loss: 0.19544666731043867\n",
      "start epoch  1\n",
      "Epoch 2/50 - Loss: 0.16920048875113328\n",
      "Validation Loss: 0.1299336797704822\n",
      "start epoch  2\n",
      "Epoch 3/50 - Loss: 0.11020502803536752\n",
      "Validation Loss: 0.10498504139679044\n",
      "start epoch  3\n",
      "Epoch 4/50 - Loss: 0.0760997954911242\n",
      "Validation Loss: 0.10884721283065646\n",
      "start epoch  4\n",
      "Epoch 5/50 - Loss: 0.05211911250837147\n",
      "Validation Loss: 0.09526251952506994\n",
      "start epoch  5\n",
      "Epoch 6/50 - Loss: 0.03673171467380598\n",
      "Validation Loss: 0.08713774005637358\n",
      "start epoch  6\n",
      "Epoch 7/50 - Loss: 0.026448198912354805\n",
      "Validation Loss: 0.08569073784900338\n",
      "start epoch  7\n",
      "Epoch 8/50 - Loss: 0.019103585136084195\n",
      "Validation Loss: 0.09042248354097338\n",
      "start epoch  8\n",
      "Epoch 9/50 - Loss: 0.013228973911221449\n",
      "Validation Loss: 0.09329451865663654\n",
      "start epoch  9\n",
      "Epoch 10/50 - Loss: 0.011132665918557905\n",
      "Validation Loss: 0.09361850097775459\n",
      "start epoch  10\n",
      "Epoch 11/50 - Loss: 0.010058770772878537\n",
      "Validation Loss: 0.09181193305841207\n",
      "start epoch  11\n",
      "Epoch 12/50 - Loss: 0.006789066775284785\n",
      "Validation Loss: 0.09762904126393168\n",
      "Early stopping after 12 epochs with no improvement.\n",
      "Training finished.\n",
      "Testing begin.\n",
      "Test Accuracy: 96.33333333333333%\n",
      "Test Loss: 0.1050666039227508\n",
      "Test Precision 0.963320102893678\n",
      "Test recall 0.9633333333333334\n"
     ]
    }
   ],
   "source": [
    "train_loader = DataLoader(train_set, batch_size=32, shuffle=True)\n",
    "val_loader = DataLoader(val_set, batch_size=32)\n",
    "test_loader = DataLoader(test_set, batch_size=32)\n",
    "criterion = nn.CrossEntropyLoss()\n",
    "optimizer = optim.SGD(model.parameters(), lr=0.001, momentum=0.9)\n",
    "    \n",
    "best_val_loss = float(\"inf\")\n",
    "patience = 5\n",
    "no_improvement_count = 0\n",
    "    \n",
    "num_epochs = 50\n",
    "for epoch in range(num_epochs):\n",
    "    print('start epoch ', epoch)\n",
    "    model.train()\n",
    "    running_loss = 0.0\n",
    "    for inputs, labels in train_loader:\n",
    "        inputs, labels = inputs.to(device), labels.to(device)\n",
    "        optimizer.zero_grad()\n",
    "        outputs = model(inputs)\n",
    "\n",
    "        loss = criterion(outputs, labels)\n",
    "        loss.backward()\n",
    "        optimizer.step()\n",
    "        running_loss += loss.item()\n",
    "    print(f\"Epoch {epoch + 1}/{num_epochs} - Loss: {running_loss / len(train_loader)}\")\n",
    "\n",
    "    model.eval()\n",
    "    val_loss = 0.0\n",
    "    with torch.no_grad():\n",
    "        for inputs, labels in val_loader:\n",
    "            inputs, labels = inputs.to(device), labels.to(device)\n",
    "            outputs = model(inputs)\n",
    "            loss = criterion(outputs, labels)\n",
    "\n",
    "            val_loss += loss.item()\n",
    "\n",
    "        val_loss /= len(val_loader)\n",
    "\n",
    "    print(f'Validation Loss: {val_loss}')\n",
    "\n",
    "        # Check for early stopping\n",
    "    if val_loss < best_val_loss:\n",
    "        best_val_loss = val_loss\n",
    "        no_improvement_count = 0\n",
    "    else:\n",
    "        no_improvement_count += 1\n",
    "\n",
    "    if no_improvement_count >= patience:\n",
    "        print(f'Early stopping after {epoch + 1} epochs with no improvement.')\n",
    "        break\n",
    "\n",
    "print('Training finished.')\n",
    "print('Testing begin.')\n",
    "model.eval()\n",
    "correct = 0\n",
    "total = 0\n",
    "test_loss = 0.0\n",
    "    \n",
    "all_labels = []\n",
    "all_predicted = []\n",
    "\n",
    "with torch.no_grad():\n",
    "    for inputs, labels in test_loader:\n",
    "        inputs, labels = inputs.to(device), labels.to(device)\n",
    "        outputs = model(inputs)\n",
    "\n",
    "        loss = criterion(outputs, labels)\n",
    "        test_loss += loss.item()\n",
    "\n",
    "        _, predicted = torch.max(outputs, 1)\n",
    "      \n",
    "        all_predicted.extend(predicted.cpu().numpy())\n",
    "        all_labels.extend(labels.cpu().numpy())\n",
    "        total += labels.size(0)\n",
    "        correct += (predicted == labels).sum().item()\n",
    "\n",
    "accuracy = 100 * correct / total\n",
    "avg_test_loss = test_loss / len(test_loader)\n",
    "precision = precision_score(all_labels, all_predicted, average='weighted')\n",
    "recall = recall_score(all_labels, all_predicted, average='weighted')\n",
    "    \n",
    "    \n",
    "\n",
    "print(f'Test Accuracy: {accuracy}%')\n",
    "print(f'Test Loss: {avg_test_loss}')\n",
    "print('Test Precision', precision)\n",
    "print('Test recall', recall)"
   ]
  },
  {
   "cell_type": "code",
   "execution_count": null,
   "id": "5ab73184",
   "metadata": {},
   "outputs": [],
   "source": [
    "#save this model to use it later for tsne"
   ]
  }
 ],
 "metadata": {
  "kernelspec": {
   "display_name": "Python 3 (ipykernel)",
   "language": "python",
   "name": "python3"
  },
  "language_info": {
   "codemirror_mode": {
    "name": "ipython",
    "version": 3
   },
   "file_extension": ".py",
   "mimetype": "text/x-python",
   "name": "python",
   "nbconvert_exporter": "python",
   "pygments_lexer": "ipython3",
   "version": "3.10.13"
  }
 },
 "nbformat": 4,
 "nbformat_minor": 5
}
