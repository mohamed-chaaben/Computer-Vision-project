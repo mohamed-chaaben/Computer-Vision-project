{
  "cells": [
    {
      "cell_type": "markdown",
      "source": [
        "Applying the two ML classification techniques to the 4th senario (model2 Dataset3):"
      ],
      "metadata": {
        "id": "qG0yzCSulEww"
      }
    },
    {
      "cell_type": "code",
      "source": [
        "from sklearn.model_selection import train_test_split\n",
        "from sklearn.preprocessing import StandardScaler\n",
        "from sklearn.cluster import KMeans\n",
        "from sklearn.neighbors import KNeighborsClassifier\n",
        "from sklearn.svm import SVC\n",
        "from sklearn.metrics import confusion_matrix, accuracy_score, precision_score, recall_score"
      ],
      "metadata": {
        "id": "yQrBVOS5kyvh"
      },
      "execution_count": 94,
      "outputs": []
    },
    {
      "cell_type": "markdown",
      "source": [
        "Applying K-mean:"
      ],
      "metadata": {
        "id": "VgU8fjYNlNL0"
      }
    },
    {
      "cell_type": "code",
      "source": [
        "X_train, X_test, y_train, y_test = train_test_split(features3.cpu().numpy(), all_labels2, test_size=0.2, random_state=42)\n",
        "\n",
        "scaler = StandardScaler()\n",
        "X_train = scaler.fit_transform(X_train)\n",
        "X_test = scaler.transform(X_test)\n",
        "\n",
        "kmeans = KMeans(n_clusters=2, random_state=42)\n",
        "kmeans.fit(X_train)\n",
        "pseudo_labels = kmeans.labels_\n",
        "\n",
        "knn_classifier = KNeighborsClassifier(n_neighbors=3)\n",
        "knn_classifier.fit(X_train, pseudo_labels)\n",
        "\n",
        "knn_predictions = knn_classifier.predict(X_test)\n",
        "\n",
        "knn_conf_matrix = confusion_matrix(y_test, knn_predictions)\n",
        "knn_accuracy = accuracy_score(y_test, knn_predictions)\n",
        "knn_precision = precision_score(y_test, knn_predictions, average='micro')\n",
        "knn_recall = recall_score(y_test, knn_predictions, average='micro')\n",
        "\n",
        "print(\"k-Nearest Neighbors Performance:\")\n",
        "print(\"Confusion Matrix:\\n\", knn_conf_matrix)\n",
        "print(\"Accuracy:\", knn_accuracy)\n",
        "print(\"Precision:\", knn_precision)\n",
        "print(\"Recall:\", knn_recall)\n"
      ],
      "metadata": {
        "colab": {
          "base_uri": "https://localhost:8080/"
        },
        "id": "q9nTuxepjGls",
        "outputId": "b465f624-85f6-4e04-efce-a0ea1e988824"
      },
      "execution_count": 95,
      "outputs": [
        {
          "output_type": "stream",
          "name": "stderr",
          "text": [
            "/usr/local/lib/python3.10/dist-packages/sklearn/cluster/_kmeans.py:870: FutureWarning: The default value of `n_init` will change from 10 to 'auto' in 1.4. Set the value of `n_init` explicitly to suppress the warning\n",
            "  warnings.warn(\n"
          ]
        },
        {
          "output_type": "stream",
          "name": "stdout",
          "text": [
            "k-Nearest Neighbors Performance:\n",
            "Confusion Matrix:\n",
            " [[  0 437   0]\n",
            " [317  63   0]\n",
            " [223 160   0]]\n",
            "Accuracy: 0.0525\n",
            "Precision: 0.0525\n",
            "Recall: 0.0525\n"
          ]
        }
      ]
    },
    {
      "cell_type": "markdown",
      "source": [
        "Applying SVM:"
      ],
      "metadata": {
        "id": "iKAfvdVPlZT3"
      }
    },
    {
      "cell_type": "code",
      "source": [
        "svm_classifier = SVC(kernel='linear', C=1.0)\n",
        "svm_classifier.fit(X_train, y_train)\n",
        "\n",
        "svm_predictions = svm_classifier.predict(X_test)\n",
        "\n",
        "svm_conf_matrix = confusion_matrix(y_test, svm_predictions)\n",
        "svm_accuracy = accuracy_score(y_test, svm_predictions)\n",
        "svm_precision = precision_score(y_test, svm_predictions, average='micro')\n",
        "svm_recall = recall_score(y_test, svm_predictions, average='micro')\n",
        "\n",
        "print(\"\\nSupport Vector Machine Performance:\")\n",
        "print(\"Confusion Matrix:\\n\", svm_conf_matrix)\n",
        "print(\"Accuracy:\", svm_accuracy)\n",
        "print(\"Precision:\", svm_precision)\n",
        "print(\"Recall:\", svm_recall)"
      ],
      "metadata": {
        "colab": {
          "base_uri": "https://localhost:8080/"
        },
        "id": "djpOX_q5kwMZ",
        "outputId": "e0d54909-ffee-4772-cd18-2fb5632dc229"
      },
      "execution_count": 96,
      "outputs": [
        {
          "output_type": "stream",
          "name": "stdout",
          "text": [
            "\n",
            "Support Vector Machine Performance:\n",
            "Confusion Matrix:\n",
            " [[437   0   0]\n",
            " [  0 378   2]\n",
            " [  0   0 383]]\n",
            "Accuracy: 0.9983333333333333\n",
            "Precision: 0.9983333333333333\n",
            "Recall: 0.9983333333333333\n"
          ]
        }
      ]
    }
  ],
  "metadata": {
    "colab": {
      "provenance": [],
      "machine_shape": "hm",
      "gpuType": "T4"
    },
    "kernelspec": {
      "display_name": "Python 3",
      "name": "python3"
    },
    "language_info": {
      "name": "python"
    },
    "accelerator": "GPU"
  },
  "nbformat": 4,
  "nbformat_minor": 0
}